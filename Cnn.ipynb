{
  "nbformat": 4,
  "nbformat_minor": 0,
  "metadata": {
    "colab": {
      "name": "Cnn.ipynb",
      "version": "0.3.2",
      "provenance": [],
      "collapsed_sections": []
    },
    "kernelspec": {
      "name": "python3",
      "display_name": "Python 3"
    },
    "accelerator": "GPU"
  },
  "cells": [
    {
      "metadata": {
        "id": "CiNUygfzyci7",
        "colab_type": "code",
        "outputId": "8066cfb3-2bda-44e7-cac8-4aae5d5a38d5",
        "colab": {
          "base_uri": "https://localhost:8080/",
          "height": 34
        }
      },
      "cell_type": "code",
      "source": [
        "import pandas as pd\n",
        "from sklearn.model_selection import train_test_split\n",
        "from sklearn.preprocessing import LabelBinarizer\n",
        "from keras.models import Sequential\n",
        "from keras.layers.convolutional import Convolution2D,MaxPooling2D\n",
        "from keras.layers import Dense,Flatten,Dropout\n",
        "from keras import backend as k\n"
      ],
      "execution_count": 0,
      "outputs": [
        {
          "output_type": "stream",
          "text": [
            "Using TensorFlow backend.\n"
          ],
          "name": "stderr"
        }
      ]
    },
    {
      "metadata": {
        "id": "IoZts-wB0SxU",
        "colab_type": "code",
        "colab": {}
      },
      "cell_type": "code",
      "source": [
        "train=pd.read_csv('https://raw.githubusercontent.com/ShahariarRabby/Bangla-Digit-Data-CSV/master/BanglaLikhaIsoleted.csv')\n",
        "test=pd.read_csv('https://raw.githubusercontent.com/ShahariarRabby/Bangla-Digit-Data-CSV/master/CMATERdb.csv')"
      ],
      "execution_count": 0,
      "outputs": []
    },
    {
      "metadata": {
        "id": "uSoF1SHX0t1l",
        "colab_type": "code",
        "outputId": "b65f4919-838a-457e-ffb3-063bdf4639a6",
        "colab": {
          "base_uri": "https://localhost:8080/",
          "height": 34
        }
      },
      "cell_type": "code",
      "source": [
        "train.shape"
      ],
      "execution_count": 6,
      "outputs": [
        {
          "output_type": "execute_result",
          "data": {
            "text/plain": [
              "(19708, 785)"
            ]
          },
          "metadata": {
            "tags": []
          },
          "execution_count": 6
        }
      ]
    },
    {
      "metadata": {
        "id": "m4SBmUnM05nI",
        "colab_type": "code",
        "outputId": "08014223-e6e1-44e7-c3fc-e116da92bf0d",
        "colab": {
          "base_uri": "https://localhost:8080/",
          "height": 34
        }
      },
      "cell_type": "code",
      "source": [
        "test.shape"
      ],
      "execution_count": 7,
      "outputs": [
        {
          "output_type": "execute_result",
          "data": {
            "text/plain": [
              "(6000, 785)"
            ]
          },
          "metadata": {
            "tags": []
          },
          "execution_count": 7
        }
      ]
    },
    {
      "metadata": {
        "id": "63eU15kS09nU",
        "colab_type": "code",
        "outputId": "d7733992-2d2f-42bf-e423-b3c5b9cf3b43",
        "colab": {
          "base_uri": "https://localhost:8080/",
          "height": 105
        }
      },
      "cell_type": "code",
      "source": [
        "train.isnull().any().describe()"
      ],
      "execution_count": 8,
      "outputs": [
        {
          "output_type": "execute_result",
          "data": {
            "text/plain": [
              "count       785\n",
              "unique        1\n",
              "top       False\n",
              "freq        785\n",
              "dtype: object"
            ]
          },
          "metadata": {
            "tags": []
          },
          "execution_count": 8
        }
      ]
    },
    {
      "metadata": {
        "id": "3Nq9P-fd1LM5",
        "colab_type": "code",
        "colab": {}
      },
      "cell_type": "code",
      "source": [
        "y=train['lable']\n",
        "x=train.drop(\"lable\",axis=1).values.reshape(-1,1,28,28).astype('float32')/255"
      ],
      "execution_count": 0,
      "outputs": []
    },
    {
      "metadata": {
        "id": "U7ZgtFG31rz_",
        "colab_type": "code",
        "colab": {}
      },
      "cell_type": "code",
      "source": [
        "x_train,x_test,y_train,y_test=train_test_split(x,y,test_size=0.33,random_state=40)"
      ],
      "execution_count": 0,
      "outputs": []
    },
    {
      "metadata": {
        "id": "rePXy-w32HG9",
        "colab_type": "code",
        "colab": {}
      },
      "cell_type": "code",
      "source": [
        "l=LabelBinarizer()\n",
        "y_train=l.fit_transform(y_train)\n",
        "y_test=l.fit_transform(y_test)"
      ],
      "execution_count": 0,
      "outputs": []
    },
    {
      "metadata": {
        "id": "Edx91mtl3y95",
        "colab_type": "code",
        "colab": {
          "base_uri": "https://localhost:8080/",
          "height": 143
        },
        "outputId": "9bbbbfcb-1e95-4b80-9630-6fe7f55db3da"
      },
      "cell_type": "code",
      "source": [
        "model=Sequential()\n",
        "k.set_image_data_format('channels_first')\n",
        "model.add(Convolution2D(30,(5,5),padding='same',input_shape=(1,28,28),activation='relu'))\n",
        "model.add(MaxPooling2D(pool_size=(2,2)))\n",
        "model.add(Convolution2D(15,(3,3),activation='relu'))\n",
        "model.add(MaxPooling2D(pool_size=(2,2)))\n",
        "model.add(Dropout(0.2))\n",
        "model.add(Flatten())\n",
        "model.add(Dense(128,activation='relu'))\n",
        "model.add(Dense(50,activation='relu'))\n",
        "model.add(Dense(10,activation='softmax'))\n",
        "model.compile(loss='categorical_crossentropy', optimizer='adam', metrics=['accuracy'])"
      ],
      "execution_count": 12,
      "outputs": [
        {
          "output_type": "stream",
          "text": [
            "WARNING:tensorflow:From /usr/local/lib/python3.6/dist-packages/tensorflow/python/framework/op_def_library.py:263: colocate_with (from tensorflow.python.framework.ops) is deprecated and will be removed in a future version.\n",
            "Instructions for updating:\n",
            "Colocations handled automatically by placer.\n",
            "WARNING:tensorflow:From /usr/local/lib/python3.6/dist-packages/keras/backend/tensorflow_backend.py:3445: calling dropout (from tensorflow.python.ops.nn_ops) with keep_prob is deprecated and will be removed in a future version.\n",
            "Instructions for updating:\n",
            "Please use `rate` instead of `keep_prob`. Rate should be set to `rate = 1 - keep_prob`.\n"
          ],
          "name": "stdout"
        }
      ]
    },
    {
      "metadata": {
        "id": "wiHyzYRY7SnT",
        "colab_type": "code",
        "outputId": "cac8a9e8-ca87-478b-d69f-34b6712de858",
        "colab": {
          "base_uri": "https://localhost:8080/",
          "height": 1352
        }
      },
      "cell_type": "code",
      "source": [
        "model.fit(x_train,y_train,epochs=35,batch_size=64)"
      ],
      "execution_count": 13,
      "outputs": [
        {
          "output_type": "stream",
          "text": [
            "WARNING:tensorflow:From /usr/local/lib/python3.6/dist-packages/tensorflow/python/ops/math_ops.py:3066: to_int32 (from tensorflow.python.ops.math_ops) is deprecated and will be removed in a future version.\n",
            "Instructions for updating:\n",
            "Use tf.cast instead.\n",
            "Epoch 1/35\n",
            "13204/13204 [==============================] - 5s 347us/step - loss: 0.6288 - acc: 0.8032\n",
            "Epoch 2/35\n",
            "13204/13204 [==============================] - 2s 135us/step - loss: 0.2219 - acc: 0.9338\n",
            "Epoch 3/35\n",
            "13204/13204 [==============================] - 2s 136us/step - loss: 0.1683 - acc: 0.9476\n",
            "Epoch 4/35\n",
            "13204/13204 [==============================] - 2s 134us/step - loss: 0.1247 - acc: 0.9633\n",
            "Epoch 5/35\n",
            "13204/13204 [==============================] - 2s 134us/step - loss: 0.1075 - acc: 0.9658\n",
            "Epoch 6/35\n",
            "13204/13204 [==============================] - 2s 133us/step - loss: 0.0929 - acc: 0.9705\n",
            "Epoch 7/35\n",
            "13204/13204 [==============================] - 2s 135us/step - loss: 0.0780 - acc: 0.9743\n",
            "Epoch 8/35\n",
            "13204/13204 [==============================] - 2s 133us/step - loss: 0.0719 - acc: 0.9777\n",
            "Epoch 9/35\n",
            "13204/13204 [==============================] - 2s 134us/step - loss: 0.0565 - acc: 0.9813\n",
            "Epoch 10/35\n",
            "13204/13204 [==============================] - 2s 136us/step - loss: 0.0497 - acc: 0.9840\n",
            "Epoch 11/35\n",
            "13204/13204 [==============================] - 2s 134us/step - loss: 0.0441 - acc: 0.9854\n",
            "Epoch 12/35\n",
            "13204/13204 [==============================] - 2s 134us/step - loss: 0.0427 - acc: 0.9852\n",
            "Epoch 13/35\n",
            "13204/13204 [==============================] - 2s 135us/step - loss: 0.0386 - acc: 0.9869\n",
            "Epoch 14/35\n",
            "13204/13204 [==============================] - 2s 135us/step - loss: 0.0306 - acc: 0.9908\n",
            "Epoch 15/35\n",
            "13204/13204 [==============================] - 2s 136us/step - loss: 0.0323 - acc: 0.9891\n",
            "Epoch 16/35\n",
            "13204/13204 [==============================] - 2s 134us/step - loss: 0.0270 - acc: 0.9911\n",
            "Epoch 17/35\n",
            "13204/13204 [==============================] - 2s 132us/step - loss: 0.0223 - acc: 0.9933\n",
            "Epoch 18/35\n",
            "13204/13204 [==============================] - 2s 134us/step - loss: 0.0239 - acc: 0.9925\n",
            "Epoch 19/35\n",
            "13204/13204 [==============================] - 2s 136us/step - loss: 0.0226 - acc: 0.9919\n",
            "Epoch 20/35\n",
            "13204/13204 [==============================] - 2s 138us/step - loss: 0.0235 - acc: 0.9930\n",
            "Epoch 21/35\n",
            "13204/13204 [==============================] - 2s 139us/step - loss: 0.0229 - acc: 0.9916\n",
            "Epoch 22/35\n",
            "13204/13204 [==============================] - 2s 136us/step - loss: 0.0213 - acc: 0.9928\n",
            "Epoch 23/35\n",
            "13204/13204 [==============================] - 2s 135us/step - loss: 0.0180 - acc: 0.9944\n",
            "Epoch 24/35\n",
            "13204/13204 [==============================] - 2s 137us/step - loss: 0.0241 - acc: 0.9926\n",
            "Epoch 25/35\n",
            "13204/13204 [==============================] - 2s 137us/step - loss: 0.0149 - acc: 0.9955\n",
            "Epoch 26/35\n",
            "13204/13204 [==============================] - 2s 136us/step - loss: 0.0116 - acc: 0.9964\n",
            "Epoch 27/35\n",
            "13204/13204 [==============================] - 2s 135us/step - loss: 0.0156 - acc: 0.9950\n",
            "Epoch 28/35\n",
            "13204/13204 [==============================] - 2s 135us/step - loss: 0.0126 - acc: 0.9961\n",
            "Epoch 29/35\n",
            "13204/13204 [==============================] - 2s 138us/step - loss: 0.0172 - acc: 0.9936\n",
            "Epoch 30/35\n",
            "13204/13204 [==============================] - 2s 135us/step - loss: 0.0192 - acc: 0.9942\n",
            "Epoch 31/35\n",
            "13204/13204 [==============================] - 2s 134us/step - loss: 0.0128 - acc: 0.9960\n",
            "Epoch 32/35\n",
            "13204/13204 [==============================] - 2s 130us/step - loss: 0.0148 - acc: 0.9947\n",
            "Epoch 33/35\n",
            "13204/13204 [==============================] - 2s 132us/step - loss: 0.0141 - acc: 0.9955\n",
            "Epoch 34/35\n",
            "13204/13204 [==============================] - 2s 130us/step - loss: 0.0144 - acc: 0.9955\n",
            "Epoch 35/35\n",
            "13204/13204 [==============================] - 2s 131us/step - loss: 0.0134 - acc: 0.9961\n"
          ],
          "name": "stdout"
        },
        {
          "output_type": "execute_result",
          "data": {
            "text/plain": [
              "<keras.callbacks.History at 0x7f819e805ef0>"
            ]
          },
          "metadata": {
            "tags": []
          },
          "execution_count": 13
        }
      ]
    },
    {
      "metadata": {
        "id": "lm_S8ngi8TBA",
        "colab_type": "code",
        "outputId": "195a3cbc-588a-473b-d308-6e8649cec9d8",
        "colab": {
          "base_uri": "https://localhost:8080/",
          "height": 34
        }
      },
      "cell_type": "code",
      "source": [
        "score = model.evaluate(x_test, y_test, batch_size=64)"
      ],
      "execution_count": 14,
      "outputs": [
        {
          "output_type": "stream",
          "text": [
            "6504/6504 [==============================] - 0s 56us/step\n"
          ],
          "name": "stdout"
        }
      ]
    },
    {
      "metadata": {
        "id": "Y11j6DoW9Hh-",
        "colab_type": "code",
        "outputId": "54b154d7-ed3d-4235-d071-6cf2d97a6a88",
        "colab": {
          "base_uri": "https://localhost:8080/",
          "height": 34
        }
      },
      "cell_type": "code",
      "source": [
        "score"
      ],
      "execution_count": 15,
      "outputs": [
        {
          "output_type": "execute_result",
          "data": {
            "text/plain": [
              "[0.19929781572453376, 0.9661746617466175]"
            ]
          },
          "metadata": {
            "tags": []
          },
          "execution_count": 15
        }
      ]
    },
    {
      "metadata": {
        "id": "XvHTdPrC9pGo",
        "colab_type": "code",
        "outputId": "c7a2a71e-8e86-48b5-b26a-c972aeef293c",
        "colab": {
          "base_uri": "https://localhost:8080/",
          "height": 34
        }
      },
      "cell_type": "code",
      "source": [
        "score = model.evaluate(x_train, y_train, batch_size=64)"
      ],
      "execution_count": 16,
      "outputs": [
        {
          "output_type": "stream",
          "text": [
            "13204/13204 [==============================] - 1s 45us/step\n"
          ],
          "name": "stdout"
        }
      ]
    },
    {
      "metadata": {
        "id": "msn3nX-jREBn",
        "colab_type": "code",
        "outputId": "5b7f49a5-d4fd-401b-d2e8-719a7a5fec4c",
        "colab": {
          "base_uri": "https://localhost:8080/",
          "height": 34
        }
      },
      "cell_type": "code",
      "source": [
        "score"
      ],
      "execution_count": 17,
      "outputs": [
        {
          "output_type": "execute_result",
          "data": {
            "text/plain": [
              "[0.002238492624002521, 0.9996213268706453]"
            ]
          },
          "metadata": {
            "tags": []
          },
          "execution_count": 17
        }
      ]
    },
    {
      "metadata": {
        "id": "qXWokEi2RGG5",
        "colab_type": "code",
        "colab": {}
      },
      "cell_type": "code",
      "source": [
        ""
      ],
      "execution_count": 0,
      "outputs": []
    }
  ]
}